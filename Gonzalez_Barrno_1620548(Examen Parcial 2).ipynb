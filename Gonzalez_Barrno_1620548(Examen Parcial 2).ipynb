{
 "cells": [
  {
   "cell_type": "markdown",
   "metadata": {},
   "source": [
    "# Examen 2: Ejercicios de Python.\n"
   ]
  },
  {
   "cell_type": "markdown",
   "metadata": {},
   "source": [
    "# Brayan Arturo Gonzalez Barron 1620548\n",
    "## Mineria de datos (Lun, Mierc, Viern) 6 a 7 pm\n",
    "### grupo 001"
   ]
  },
  {
   "cell_type": "markdown",
   "metadata": {},
   "source": [
    "Al momento de responder las preguntas, cerciorense de que les imprima el resultado. "
   ]
  },
  {
   "cell_type": "markdown",
   "metadata": {},
   "source": [
    "### 1.- Dando lista A = [3, 2, 7, 4, 12, 9, 6, 1] desarrolla los siguientes 3 ejercicios.\n",
    "\n",
    "- Imprime la sumatoria de todos los elementos.\n",
    "- Ordenalos de mayor a menor.\n",
    "- Haz una nueva lista pero solo con sus elementos pares."
   ]
  },
  {
   "cell_type": "code",
   "execution_count": 58,
   "metadata": {},
   "outputs": [
    {
     "data": {
      "text/plain": [
       "44"
      ]
     },
     "execution_count": 58,
     "metadata": {},
     "output_type": "execute_result"
    }
   ],
   "source": [
    "#(Puntos 5)\n",
    "# Imprime la sumatoria de todos los elementos en a = [3, 2, 7, 4, 12, 9, 6, 1].\n",
    "#Creo la lista A\n",
    "A=[3,2,7,4,12,9,6,1]\n",
    "#Variable que contendra la suma de todos los elementos\n",
    "suma=0\n",
    "#ciclo que recorrera cada elemento e ira acumulando la suma de cada numero\n",
    "for num in A:\n",
    "    suma+=num\n",
    "suma"
   ]
  },
  {
   "cell_type": "code",
   "execution_count": 59,
   "metadata": {},
   "outputs": [
    {
     "data": {
      "text/plain": [
       "[1, 2, 3, 4, 6, 7, 9, 12]"
      ]
     },
     "execution_count": 59,
     "metadata": {},
     "output_type": "execute_result"
    }
   ],
   "source": [
    "#(Puntos 10)\n",
    "# Ordenalos de mayor a menor\n",
    "#for encargado de recorrer la lista\n",
    "for i in range(1, len(A)):\n",
    "    #for encagado de sustuir valores en caso de que el if de true\n",
    "    for j in range(len(A) -i):\n",
    "        if A[j] > A[j+1]:\n",
    "            temp = A[j]\n",
    "            A[j] = A[j+1]\n",
    "            A[j+1] = temp\n",
    "A"
   ]
  },
  {
   "cell_type": "code",
   "execution_count": 63,
   "metadata": {},
   "outputs": [
    {
     "data": {
      "text/plain": [
       "[2, 4, 6, 12]"
      ]
     },
     "execution_count": 63,
     "metadata": {},
     "output_type": "execute_result"
    }
   ],
   "source": [
    "#(Puntos 10)\n",
    "# Haz una nueva lista pero solo con sus elementos pares\n",
    "pares=[]\n",
    "for num in A:\n",
    "    if num % 2 == 0:\n",
    "        pares.append(num)\n",
    "pares"
   ]
  },
  {
   "cell_type": "markdown",
   "metadata": {},
   "source": [
    "### 2.- Dale valor a dos variables y realiza 5 funciones que regresen como resultado diferentes operaciones aritmeticas (suma, resta, etc...). "
   ]
  },
  {
   "cell_type": "code",
   "execution_count": 71,
   "metadata": {},
   "outputs": [
    {
     "name": "stdout",
     "output_type": "stream",
     "text": [
      "Suma de num1 + num2: 6\n",
      "Resta de num1 - num2: -2\n",
      "Multiplicacion de num1 * num2: 8\n",
      "Division de num1 / num2: 0.5\n",
      "Exponenciacion de num1 ^ num2: 16\n"
     ]
    }
   ],
   "source": [
    "#(Puntos 15)\n",
    "#Funcino que retorna la suma de sus parametros\n",
    "def suma(num1, num2):\n",
    "    return num1+num2\n",
    "#Funcion que retorna la resta de sus parametros\n",
    "def resta(num1, num2):\n",
    "    return num1-num2\n",
    "#Funcion que retorna la multiplicacion de sus parametros\n",
    "def multiplicacion(num1, num2):\n",
    "    return num1*num2\n",
    "#funcion que retorna la divicion de sus parametros\n",
    "def divicion(num1, num2):\n",
    "    return num1/num2\n",
    "#funcion que toma el primer paramentro como base y despues hace\n",
    "#un ciclo con el limite del segundo para multiplicar n veces la base\n",
    "def exponenciacion(base, exponente):\n",
    "    resultado=base\n",
    "    for i in range (1, exponente):\n",
    "        resultado*=base\n",
    "    return resultado\n",
    "num1=2\n",
    "num2=4\n",
    "print(\"Suma de num1 + num2: \"+str(suma(num1, num2)))\n",
    "print(\"Resta de num1 - num2: \"+str(resta(num1, num2)))\n",
    "print(\"Multiplicacion de num1 * num2: \"+str(multiplicacion(num1, num2)))\n",
    "print(\"Division de num1 / num2: \"+str(divicion(num1, num2)))\n",
    "print(\"Exponenciacion de num1 ^ num2: \"+str(exponenciacion(num1, num2)))"
   ]
  },
  {
   "cell_type": "markdown",
   "metadata": {},
   "source": [
    "### 3.- Dada la lista A = [3, 2, 7, 4, 12, 9, 6, 1] y lista B = [13, 16, 21, 34, 18, 17, 11, 10] crea una lista nueva que contenga solo los datos impares de ambas listas."
   ]
  },
  {
   "cell_type": "code",
   "execution_count": 73,
   "metadata": {},
   "outputs": [
    {
     "data": {
      "text/plain": [
       "[3, 7, 9, 1, 13, 21, 17, 11]"
      ]
     },
     "execution_count": 73,
     "metadata": {},
     "output_type": "execute_result"
    }
   ],
   "source": [
    "#(Puntos 15)\n",
    "#Declarcion de Listas\n",
    "A = [3, 2, 7, 4, 12, 9, 6, 1]\n",
    "B = [13, 16, 21, 34, 18, 17, 11, 10]\n",
    "#declaracion de lista de impares vacia\n",
    "impares=[]\n",
    "#ciclos for que reccorreran la lista para obtener los impares de las mimsmas\n",
    "for numA in A:\n",
    "    if numA % 2 != 0:\n",
    "        impares.append(numA)\n",
    "for numB in B:\n",
    "    if numB % 2 != 0:\n",
    "        impares.append(numB)\n",
    "impares"
   ]
  },
  {
   "cell_type": "markdown",
   "metadata": {},
   "source": [
    "### 4.- Dadas las variables W = 11, X = 17, Y = 32, Z = 65, crea una función que clasifique por grupos de edad (niño, adolecente, adulto, adulto mayor. (Utiliza el elif)"
   ]
  },
  {
   "cell_type": "code",
   "execution_count": 81,
   "metadata": {},
   "outputs": [
    {
     "name": "stdout",
     "output_type": "stream",
     "text": [
      "adulto\n"
     ]
    }
   ],
   "source": [
    "#(Puntos 15)\n",
    "W = 11\n",
    "X = 17 \n",
    "Y = 32\n",
    "Z = 65\n",
    "#funcino que clasifica en funcion de su parametro y las variables W X Y Z\n",
    "def clasificacionEdad(edad):\n",
    "    if edad <= W :\n",
    "        return \"Niño\"\n",
    "    elif edad > W and edad <= X:\n",
    "        return \"Adolecente\"\n",
    "    elif edad > X and edad <= Y:\n",
    "        return \"adulto\"\n",
    "    elif edad > Y and edad <= Z:\n",
    "        return \"adulto mayor\"\n",
    "print(clasificacionEdad(23))"
   ]
  },
  {
   "cell_type": "markdown",
   "metadata": {},
   "source": [
    "### 5.- Utilizando cualquiera de las condicionales (for, if, while...) imprime los siguientes patrones tal y como aparecen en el comentario, respetando los espacios y los saltos de renglon.\n"
   ]
  },
  {
   "cell_type": "code",
   "execution_count": 98,
   "metadata": {},
   "outputs": [
    {
     "name": "stdout",
     "output_type": "stream",
     "text": [
      "1 \n",
      "2 2 \n",
      "3 3 3 \n",
      "4 4 4 4 \n",
      "5 5 5 5 5 \n",
      "\n"
     ]
    }
   ],
   "source": [
    "#(Puntos 10)\n",
    "#1 \n",
    "#2 2\n",
    "#3 3 3\n",
    "#4 4 4 4\n",
    "#5 5 5 5 5\n",
    "#contador que controlara el limite del segundo ciclo\n",
    "contador=0\n",
    "#variable que contendra el patron\n",
    "patron=\"\"\n",
    "#ciclo que nos dara el numero de lineas\n",
    "for i in range(1, 5+1):\n",
    "    contador+=1\n",
    "    #ciclo que arma el patron\n",
    "    for j in range(0, contador):\n",
    "        #print(contador)\n",
    "        patron+=str(contador) + \" \"\n",
    "    patron+=\"\\n\"\n",
    "print(patron)"
   ]
  },
  {
   "cell_type": "code",
   "execution_count": 107,
   "metadata": {},
   "outputs": [
    {
     "name": "stdout",
     "output_type": "stream",
     "text": [
      "5 4 3 2 1 \n",
      "4 3 2 1 \n",
      "3 2 1 \n",
      "2 1 \n",
      "1 \n",
      "\n"
     ]
    }
   ],
   "source": [
    "#(Puntos 15)\n",
    "#5 4 3 2 1 \n",
    "#4 3 2 1\n",
    "#3 2 1 \n",
    "#2 1\n",
    "#1\n",
    "#variable controlara el segundo sciclo\n",
    "contador=5\n",
    "patron=\"\"\n",
    "#ciclo que nos pintara el numero de lineas\n",
    "for i in range(1, 5+1):\n",
    "    #ciclo que obtendra el patron decendente\n",
    "    for j in range (0, contador):\n",
    "        #print(contador-j)\n",
    "        patron+=str(contador-j)+\" \"\n",
    "    patron+=\"\\n\"\n",
    "    contador-=1\n",
    "print(patron)"
   ]
  },
  {
   "cell_type": "markdown",
   "metadata": {},
   "source": [
    "### 6.- Con la lista A = [3, 2, 7, 4, 12, 9, 6, 1] y el uso de condicionales, imprime una nueva lista con cada uno de los elementos de la lista A, al cuadrado."
   ]
  },
  {
   "cell_type": "code",
   "execution_count": 108,
   "metadata": {},
   "outputs": [
    {
     "data": {
      "text/plain": [
       "[9, 4, 49, 16, 144, 81, 36, 1]"
      ]
     },
     "execution_count": 108,
     "metadata": {},
     "output_type": "execute_result"
    }
   ],
   "source": [
    "#(Puntos 10)\n",
    "A = [3, 2, 7, 4, 12, 9, 6, 1]\n",
    "cuadrados=[]\n",
    "for num in A:\n",
    "    cuadrados.append(num*num)\n",
    "cuadrados"
   ]
  },
  {
   "cell_type": "markdown",
   "metadata": {},
   "source": [
    "### (Extra puntos 5.) \n",
    "\n",
    "Conteste los tres puntos para obtener la totalidad de los puntos.\n",
    "*Mencione al menos 3 palabras reservadas para el lenguaje de programación de Python.\n",
    "*Describa la diferencia principal entre las listas y las tuplas en Python.\n",
    "*Describa para que sirve el condicional ELIF.\n"
   ]
  },
  {
   "cell_type": "markdown",
   "metadata": {},
   "source": [
    "# Palabras reservadas\n",
    "def, new, str\n",
    "# diferencia entre listas y tuplas\n",
    "Las listas son dinamicas y las tuplas son estaticas\n",
    "# elif\n",
    "sirve para ejecutar en una segunda condicion solo si la que estaba antes de esta no se cumplio"
   ]
  },
  {
   "cell_type": "code",
   "execution_count": null,
   "metadata": {},
   "outputs": [],
   "source": []
  }
 ],
 "metadata": {
  "kernelspec": {
   "display_name": "Python 3",
   "language": "python",
   "name": "python3"
  },
  "language_info": {
   "codemirror_mode": {
    "name": "ipython",
    "version": 3
   },
   "file_extension": ".py",
   "mimetype": "text/x-python",
   "name": "python",
   "nbconvert_exporter": "python",
   "pygments_lexer": "ipython3",
   "version": "3.7.4"
  }
 },
 "nbformat": 4,
 "nbformat_minor": 2
}
